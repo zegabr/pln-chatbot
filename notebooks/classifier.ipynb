{
  "nbformat": 4,
  "nbformat_minor": 0,
  "metadata": {
    "colab": {
      "name": "classifier.ipynb",
      "provenance": [],
      "collapsed_sections": [],
      "include_colab_link": true
    },
    "kernelspec": {
      "display_name": "Python 3",
      "name": "python3"
    },
    "language_info": {
      "name": "python"
    }
  },
  "cells": [
    {
      "cell_type": "markdown",
      "metadata": {
        "id": "view-in-github",
        "colab_type": "text"
      },
      "source": [
        "<a href=\"https://colab.research.google.com/github/zegabr/pln-chatbot/blob/main/notebooks/classifier.ipynb\" target=\"_parent\"><img src=\"https://colab.research.google.com/assets/colab-badge.svg\" alt=\"Open In Colab\"/></a>"
      ]
    },
    {
      "cell_type": "code",
      "metadata": {
        "id": "gd4HnUra57_U"
      },
      "source": [
        "import numpy as np\n",
        "import tensorflow_datasets as tfds\n",
        "import tensorflow as tf\n",
        "import matplotlib.pyplot as plt"
      ],
      "execution_count": 3,
      "outputs": []
    },
    {
      "cell_type": "code",
      "metadata": {
        "id": "t9RN7RtZlYsH"
      },
      "source": [
        "intent_mapper = {\n",
        "  'NEGATE': 0,\n",
        "  'NEGATE_INTENT': 1,\n",
        "  'REQUEST_ALTS': 2,\n",
        "  'GOODBYE': 3,\n",
        "  'REQUEST': 4,\n",
        "  'THANK_YOU': 5,\n",
        "  'AFFIRM': 6,\n",
        "  'AFFIRM_INTENT': 7,\n",
        "  'SELECT': 8,\n",
        "  'INFORM': 9,\n",
        "  'INFORM_INTENT': 10\n",
        "}"
      ],
      "execution_count": 4,
      "outputs": []
    },
    {
      "cell_type": "code",
      "metadata": {
        "id": "9FsnnRKzRA4M"
      },
      "source": [
        "TRAIN_DATASET_PATH = 'https://raw.githubusercontent.com/zegabr/pln-chatbot/main/dataset/classification/train_dataset.csv'\n",
        "TEST_DATASET_PATH = 'https://raw.githubusercontent.com/zegabr/pln-chatbot/main/dataset/classification/test_dataset.csv'"
      ],
      "execution_count": 5,
      "outputs": []
    },
    {
      "cell_type": "code",
      "metadata": {
        "id": "XOD_AUX632j9",
        "colab": {
          "base_uri": "https://localhost:8080/"
        },
        "outputId": "8fe551b8-ed2d-4807-999e-c38f9a0accbd"
      },
      "source": [
        "from pandas import read_csv\n",
        "train_restaurant_dataset = read_csv(TRAIN_DATASET_PATH)\n",
        "# pega 2 np arrays, um com as frases e outro com os respectivos intents\n",
        "train_dataset = train_restaurant_dataset.drop_duplicates(subset=['Phrase'])\n",
        "train_phrases = np.array(train_restaurant_dataset.Phrase)[1:]\n",
        "train_intents = np.array(train_restaurant_dataset.Intent.map(lambda x : intent_mapper[x]))[1:]\n",
        "print(train_phrases)\n",
        "print(train_intents)"
      ],
      "execution_count": 6,
      "outputs": [
        {
          "output_type": "stream",
          "text": [
            "['It has to be in San Fran.' \"It'll be afternoon 12.\" \"I'd like Palmer's.\"\n",
            " ... 'That sounds great! Thank you.' 'No, thank you very much!'\n",
            " 'No, thank you very much!']\n",
            "[9 9 9 ... 5 5 0]\n"
          ],
          "name": "stdout"
        }
      ]
    },
    {
      "cell_type": "code",
      "metadata": {
        "colab": {
          "base_uri": "https://localhost:8080/"
        },
        "id": "OlaYY2RsZTvY",
        "outputId": "3b9f77db-8609-40cc-b93b-43c6bd5d85ec"
      },
      "source": [
        "test_dataset = read_csv(TEST_DATASET_PATH)\n",
        "# pega 2 np arrays, um com as frases e outro com os respectivos intents\n",
        "test_dataset = test_dataset.drop_duplicates(subset=['Phrase'])\n",
        "test_phrases = np.array(test_dataset.Phrase)[1:]\n",
        "test_intents = np.array(test_dataset.Intent.map(lambda x : intent_mapper[x]))[1:]\n",
        "\n",
        "print(test_phrases[:10])\n",
        "print(test_intents[:10])"
      ],
      "execution_count": 33,
      "outputs": [
        {
          "output_type": "stream",
          "text": [
            "517\n",
            "517\n",
            "[\"Check in the San Jose area. I'd like to find a place that serves Diner style food.\"\n",
            " 'Great! can you make a reservation for one on Saturday this week?'\n",
            " 'For lunch at 12 in the afternoon.'\n",
            " 'On second thought, make it for Tuesday next week.'\n",
            " 'Yes. Also see if they have outdoor seating and what their rating is.'\n",
            " 'Great! Thank you.' \"No, thank you. I'm good for now.\"\n",
            " 'Can you help me find a place to eat?' \"I'm interested in Napa.\"\n",
            " \"Yes, I'm interested in Japanese.\"]\n",
            "[9 8 9 0 4 5 5 9 9 9]\n"
          ],
          "name": "stdout"
        }
      ]
    },
    {
      "cell_type": "code",
      "metadata": {
        "id": "oAQo2_zVbAZI"
      },
      "source": [
        "VOCAB_SIZE = 2000\n",
        "encoder = tf.keras.layers.experimental.preprocessing.TextVectorization(\n",
        "    max_tokens=VOCAB_SIZE)\n",
        "encoder.adapt(train_phrases)"
      ],
      "execution_count": 8,
      "outputs": []
    },
    {
      "cell_type": "code",
      "metadata": {
        "colab": {
          "base_uri": "https://localhost:8080/"
        },
        "id": "VtL0tz2wbeii",
        "outputId": "1581f037-94e3-47df-aba9-78414b1f7498"
      },
      "source": [
        "vocab = np.array(encoder.get_vocabulary())\n",
        "print(len(encoder.get_vocabulary()))\n",
        "vocab[:20]"
      ],
      "execution_count": 9,
      "outputs": [
        {
          "output_type": "stream",
          "text": [
            "1180\n"
          ],
          "name": "stdout"
        },
        {
          "output_type": "execute_result",
          "data": {
            "text/plain": [
              "array(['', '[UNK]', 'i', 'for', 'the', 'a', 'to', 'you', 'that', 'is',\n",
              "       'in', 'yes', 'make', 'it', 'at', 'reservation', 'me', 'restaurant',\n",
              "       'no', 'thats'], dtype='<U15')"
            ]
          },
          "metadata": {
            "tags": []
          },
          "execution_count": 9
        }
      ]
    },
    {
      "cell_type": "code",
      "metadata": {
        "id": "nigIW3OJxUqh"
      },
      "source": [
        "model = tf.keras.Sequential([\n",
        "  encoder,\n",
        "  tf.keras.layers.Embedding(\n",
        "    input_dim=len(encoder.get_vocabulary()),\n",
        "    output_dim=64,\n",
        "    # Use masking to handle the variable sequence lengths\n",
        "    mask_zero=True),\n",
        "  tf.keras.layers.Bidirectional(tf.keras.layers.LSTM(64)),\n",
        "  tf.keras.layers.Dense(11, activation='softmax')\n",
        "])"
      ],
      "execution_count": 10,
      "outputs": []
    },
    {
      "cell_type": "code",
      "metadata": {
        "colab": {
          "base_uri": "https://localhost:8080/"
        },
        "id": "G8PxfkXjdASW",
        "outputId": "0c2e2cb2-d044-463c-c5e2-1b6d2139a00c"
      },
      "source": [
        "# predict on a sample text without padding.\n",
        "\n",
        "sample_text = ('Alright, fine. Now I would like to find a one-way flight to go '\n",
        "               'there, and I do not mind which airline I will have.')\n",
        "predictions = model.predict(np.array([sample_text]))\n",
        "print(predictions[0])"
      ],
      "execution_count": 11,
      "outputs": [
        {
          "output_type": "stream",
          "text": [
            "[0.09102822 0.09212054 0.09073535 0.09071051 0.09199518 0.09116084\n",
            " 0.09113285 0.08811726 0.09240778 0.08942764 0.09116379]\n"
          ],
          "name": "stdout"
        }
      ]
    },
    {
      "cell_type": "code",
      "metadata": {
        "colab": {
          "base_uri": "https://localhost:8080/"
        },
        "id": "Ee8vuMVrdX_4",
        "outputId": "f2a660f7-aa28-4f49-af76-16040d68fcae"
      },
      "source": [
        "# predict on a sample text with padding\n",
        "\n",
        "padding = \"the \" * 2000\n",
        "predictions = model.predict(np.array([sample_text, padding]))\n",
        "print(predictions[0])"
      ],
      "execution_count": 12,
      "outputs": [
        {
          "output_type": "stream",
          "text": [
            "[0.09102822 0.09212054 0.09073535 0.09071051 0.09199518 0.09116084\n",
            " 0.09113286 0.08811726 0.09240778 0.08942764 0.09116379]\n"
          ],
          "name": "stdout"
        }
      ]
    },
    {
      "cell_type": "code",
      "metadata": {
        "id": "AG-G98EsdavD"
      },
      "source": [
        "model.compile(loss=tf.keras.losses.SparseCategoricalCrossentropy(),\n",
        "              optimizer=tf.keras.optimizers.Adam(1e-4),\n",
        "              metrics=['accuracy'])"
      ],
      "execution_count": 13,
      "outputs": []
    },
    {
      "cell_type": "code",
      "metadata": {
        "colab": {
          "base_uri": "https://localhost:8080/"
        },
        "id": "vkGnDIAadiOw",
        "outputId": "b4d7e4c9-9839-4230-ebba-96542d49be4b"
      },
      "source": [
        "history = model.fit(train_phrases, train_intents, epochs=20)"
      ],
      "execution_count": 14,
      "outputs": [
        {
          "output_type": "stream",
          "text": [
            "Epoch 1/20\n",
            "112/112 [==============================] - 10s 28ms/step - loss: 2.3370 - accuracy: 0.3673\n",
            "Epoch 2/20\n",
            "112/112 [==============================] - 3s 29ms/step - loss: 1.9199 - accuracy: 0.4099\n",
            "Epoch 3/20\n",
            "112/112 [==============================] - 3s 28ms/step - loss: 1.7154 - accuracy: 0.4203\n",
            "Epoch 4/20\n",
            "112/112 [==============================] - 3s 28ms/step - loss: 1.5628 - accuracy: 0.5028\n",
            "Epoch 5/20\n",
            "112/112 [==============================] - 3s 29ms/step - loss: 1.4097 - accuracy: 0.5870\n",
            "Epoch 6/20\n",
            "112/112 [==============================] - 3s 30ms/step - loss: 1.2892 - accuracy: 0.6364\n",
            "Epoch 7/20\n",
            "112/112 [==============================] - 3s 28ms/step - loss: 1.1938 - accuracy: 0.6540\n",
            "Epoch 8/20\n",
            "112/112 [==============================] - 3s 29ms/step - loss: 1.1091 - accuracy: 0.6633\n",
            "Epoch 9/20\n",
            "112/112 [==============================] - 3s 30ms/step - loss: 1.0308 - accuracy: 0.6684\n",
            "Epoch 10/20\n",
            "112/112 [==============================] - 3s 29ms/step - loss: 0.9660 - accuracy: 0.6695\n",
            "Epoch 11/20\n",
            "112/112 [==============================] - 3s 29ms/step - loss: 0.9118 - accuracy: 0.6751\n",
            "Epoch 12/20\n",
            "112/112 [==============================] - 3s 28ms/step - loss: 0.8650 - accuracy: 0.6787\n",
            "Epoch 13/20\n",
            "112/112 [==============================] - 3s 30ms/step - loss: 0.8212 - accuracy: 0.6832\n",
            "Epoch 14/20\n",
            "112/112 [==============================] - 3s 29ms/step - loss: 0.7855 - accuracy: 0.6846\n",
            "Epoch 15/20\n",
            "112/112 [==============================] - 3s 28ms/step - loss: 0.7523 - accuracy: 0.6863\n",
            "Epoch 16/20\n",
            "112/112 [==============================] - 3s 29ms/step - loss: 0.7245 - accuracy: 0.6894\n",
            "Epoch 17/20\n",
            "112/112 [==============================] - 3s 27ms/step - loss: 0.7016 - accuracy: 0.6928\n",
            "Epoch 18/20\n",
            "112/112 [==============================] - 3s 29ms/step - loss: 0.6823 - accuracy: 0.6989\n",
            "Epoch 19/20\n",
            "112/112 [==============================] - 3s 28ms/step - loss: 0.6630 - accuracy: 0.7037\n",
            "Epoch 20/20\n",
            "112/112 [==============================] - 3s 30ms/step - loss: 0.6472 - accuracy: 0.7026\n"
          ],
          "name": "stdout"
        }
      ]
    },
    {
      "cell_type": "code",
      "metadata": {
        "id": "q043eZ2-jY_6",
        "colab": {
          "base_uri": "https://localhost:8080/"
        },
        "outputId": "62f6a679-af71-43bf-fa78-79864b504b85"
      },
      "source": [
        "sample_test = ('I\\'m looking for a restaurant, can you help?')\n",
        "sample_test_intent = 'INFORM'\n",
        "predictions = model.predict(np.array([sample_test]))\n",
        "for i in predictions:\n",
        "  for idx, intent in enumerate(i):\n",
        "    print('{:.2f}%'.format(intent*100), [i for i in intent_mapper.keys()][idx])\n",
        "print('uhu?')"
      ],
      "execution_count": 15,
      "outputs": [
        {
          "output_type": "stream",
          "text": [
            "12.82% NEGATE\n",
            "0.00% NEGATE_INTENT\n",
            "4.48% REQUEST_ALTS\n",
            "0.00% GOODBYE\n",
            "0.04% REQUEST\n",
            "0.06% THANK_YOU\n",
            "0.10% AFFIRM\n",
            "0.02% AFFIRM_INTENT\n",
            "0.72% SELECT\n",
            "81.74% INFORM\n",
            "0.02% INFORM_INTENT\n",
            "uhu?\n"
          ],
          "name": "stdout"
        }
      ]
    },
    {
      "cell_type": "code",
      "metadata": {
        "id": "w2g6TZaYCI-y",
        "colab": {
          "base_uri": "https://localhost:8080/"
        },
        "outputId": "8ca38648-9d4d-4922-c154-b58261b399c1"
      },
      "source": [
        "sample_test = ('Also see if they have outdoor seating and what their rating is')\n",
        "sample_test_intent = 'REQUEST'\n",
        "predictions = model.predict(np.array([sample_test]))\n",
        "for i in predictions:\n",
        "  for idx, intent in enumerate(i):\n",
        "    print('{:.2f}%'.format(intent*100), [i for i in intent_mapper.keys()][idx])\n",
        "print('uhu?')"
      ],
      "execution_count": 16,
      "outputs": [
        {
          "output_type": "stream",
          "text": [
            "0.02% NEGATE\n",
            "0.00% NEGATE_INTENT\n",
            "0.04% REQUEST_ALTS\n",
            "0.02% GOODBYE\n",
            "80.11% REQUEST\n",
            "0.02% THANK_YOU\n",
            "19.36% AFFIRM\n",
            "0.00% AFFIRM_INTENT\n",
            "0.32% SELECT\n",
            "0.10% INFORM\n",
            "0.01% INFORM_INTENT\n",
            "uhu?\n"
          ],
          "name": "stdout"
        }
      ]
    },
    {
      "cell_type": "code",
      "metadata": {
        "id": "J8d-oORC6iPP",
        "outputId": "3a2af974-b6b7-4aaa-8c40-6c96b8dbf407",
        "colab": {
          "base_uri": "https://localhost:8080/"
        }
      },
      "source": [
        "from sklearn.metrics import classification_report\n",
        "\n",
        "test_phrases = np.array(test_dataset.Phrase)[1:]\n",
        "test_intents = np.array(test_dataset.Intent.map(lambda x : intent_mapper[x]))[1:]\n",
        "\n",
        "predictions = model.predict(np.array(test_phrases))\n",
        "y_pred = [] \n",
        "for pred in predictions:\n",
        "  y_pred.append(pred.argmax())\n",
        "\n",
        "print(classification_report(test_intents, y_pred))\n"
      ],
      "execution_count": 37,
      "outputs": [
        {
          "output_type": "stream",
          "text": [
            "              precision    recall  f1-score   support\n",
            "\n",
            "           0       0.45      0.50      0.48        20\n",
            "           2       0.83      0.38      0.53        13\n",
            "           3       0.00      0.00      0.00         0\n",
            "           4       0.92      0.70      0.79        82\n",
            "           5       0.91      0.86      0.88        97\n",
            "           6       0.59      0.71      0.64        65\n",
            "           8       0.80      0.10      0.18        40\n",
            "           9       0.79      0.99      0.88       200\n",
            "\n",
            "    accuracy                           0.78       517\n",
            "   macro avg       0.66      0.53      0.55       517\n",
            "weighted avg       0.80      0.78      0.76       517\n",
            "\n"
          ],
          "name": "stdout"
        },
        {
          "output_type": "stream",
          "text": [
            "/usr/local/lib/python3.7/dist-packages/sklearn/metrics/_classification.py:1272: UndefinedMetricWarning: Recall and F-score are ill-defined and being set to 0.0 in labels with no true samples. Use `zero_division` parameter to control this behavior.\n",
            "  _warn_prf(average, modifier, msg_start, len(result))\n"
          ],
          "name": "stderr"
        }
      ]
    }
  ]
}