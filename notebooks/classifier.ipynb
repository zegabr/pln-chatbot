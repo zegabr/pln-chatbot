{
  "nbformat": 4,
  "nbformat_minor": 0,
  "metadata": {
    "colab": {
      "name": "classifier.ipynb",
      "provenance": [],
      "collapsed_sections": [],
      "include_colab_link": true
    },
    "kernelspec": {
      "display_name": "Python 3",
      "name": "python3"
    },
    "language_info": {
      "name": "python"
    }
  },
  "cells": [
    {
      "cell_type": "markdown",
      "metadata": {
        "id": "view-in-github",
        "colab_type": "text"
      },
      "source": [
        "<a href=\"https://colab.research.google.com/github/zegabr/pln-chatbot/blob/main/notebooks/classifier.ipynb\" target=\"_parent\"><img src=\"https://colab.research.google.com/assets/colab-badge.svg\" alt=\"Open In Colab\"/></a>"
      ]
    },
    {
      "cell_type": "code",
      "metadata": {
        "id": "gd4HnUra57_U"
      },
      "source": [
        "import numpy as np\n",
        "import tensorflow_datasets as tfds\n",
        "import tensorflow as tf\n",
        "import matplotlib.pyplot as plt"
      ],
      "execution_count": 1,
      "outputs": []
    },
    {
      "cell_type": "code",
      "metadata": {
        "id": "t9RN7RtZlYsH"
      },
      "source": [
        "intent_mapper = {\n",
        "  'NEGATE': 0,\n",
        "  'NEGATE_INTENT': 1,\n",
        "  'REQUEST_ALTS': 2,\n",
        "  'GOODBYE': 3,\n",
        "  'REQUEST': 4,\n",
        "  'THANK_YOU': 5,\n",
        "  'AFFIRM': 6,\n",
        "  'AFFIRM_INTENT': 7,\n",
        "  'SELECT': 8,\n",
        "  'INFORM': 9,\n",
        "  'INFORM_INTENT': 10\n",
        "}"
      ],
      "execution_count": 2,
      "outputs": []
    },
    {
      "cell_type": "code",
      "metadata": {
        "id": "9FsnnRKzRA4M"
      },
      "source": [
        "TRAIN_DATASET_PATH = 'https://raw.githubusercontent.com/zegabr/pln-chatbot/main/dataset/classification/train_dataset.csv'\n",
        "TEST_DATASET_PATH = 'https://raw.githubusercontent.com/zegabr/pln-chatbot/main/dataset/classification/test_dataset.csv'"
      ],
      "execution_count": 3,
      "outputs": []
    },
    {
      "cell_type": "code",
      "metadata": {
        "id": "XOD_AUX632j9",
        "colab": {
          "base_uri": "https://localhost:8080/"
        },
        "outputId": "a36a41ab-15c6-4400-c6e6-94dd66522d64"
      },
      "source": [
        "from pandas import read_csv\n",
        "train_restaurant_dataset = read_csv(TRAIN_DATASET_PATH)\n",
        "# pega 2 np arrays, um com as frases e outro com os respectivos intents\n",
        "train_dataset = train_restaurant_dataset.drop_duplicates(subset=['Phrase'])\n",
        "train_phrases = np.array(train_restaurant_dataset.Phrase)[1:]\n",
        "train_intents = np.array(train_restaurant_dataset.Intent.map(lambda x : intent_mapper[x]))[1:]\n",
        "print(train_phrases)\n",
        "print(train_intents)"
      ],
      "execution_count": 4,
      "outputs": [
        {
          "output_type": "stream",
          "text": [
            "['It has to be in San Fran.' \"It'll be afternoon 12.\" \"I'd like Palmer's.\"\n",
            " ... 'That sounds great! Thank you.' 'No, thank you very much!'\n",
            " 'No, thank you very much!']\n",
            "[9 9 9 ... 5 5 0]\n"
          ],
          "name": "stdout"
        }
      ]
    },
    {
      "cell_type": "code",
      "metadata": {
        "colab": {
          "base_uri": "https://localhost:8080/"
        },
        "id": "OlaYY2RsZTvY",
        "outputId": "2a035d4a-9d5c-4576-a000-bdbd2dd59cd8"
      },
      "source": [
        "test_dataset = read_csv(TEST_DATASET_PATH)\n",
        "# pega 2 np arrays, um com as frases e outro com os respectivos intents\n",
        "test_dataset = test_dataset.drop_duplicates(subset=['Phrase'])\n",
        "test_phrases = np.array(test_dataset.Phrase)[1:]\n",
        "test_intents = np.array(test_dataset.Intent.map(lambda x : intent_mapper[x]))[1:]\n",
        "print(test_phrases[:10])\n",
        "print(test_intents[:10])"
      ],
      "execution_count": 23,
      "outputs": [
        {
          "output_type": "stream",
          "text": [
            "[\"Check in the San Jose area. I'd like to find a place that serves Diner style food.\"\n",
            " 'Great! can you make a reservation for one on Saturday this week?'\n",
            " 'For lunch at 12 in the afternoon.'\n",
            " 'On second thought, make it for Tuesday next week.'\n",
            " 'Yes. Also see if they have outdoor seating and what their rating is.'\n",
            " 'Great! Thank you.' \"No, thank you. I'm good for now.\"\n",
            " 'Can you help me find a place to eat?' \"I'm interested in Napa.\"\n",
            " \"Yes, I'm interested in Japanese.\"]\n",
            "[9 8 9 0 4 5 5 9 9 9]\n"
          ],
          "name": "stdout"
        }
      ]
    },
    {
      "cell_type": "code",
      "metadata": {
        "id": "oAQo2_zVbAZI"
      },
      "source": [
        "VOCAB_SIZE = 2000\n",
        "encoder = tf.keras.layers.experimental.preprocessing.TextVectorization(\n",
        "    max_tokens=VOCAB_SIZE)\n",
        "encoder.adapt(train_phrases)"
      ],
      "execution_count": 6,
      "outputs": []
    },
    {
      "cell_type": "code",
      "metadata": {
        "colab": {
          "base_uri": "https://localhost:8080/"
        },
        "id": "VtL0tz2wbeii",
        "outputId": "af83bdbe-5c5f-4f73-cd03-4d0e5e71cdd5"
      },
      "source": [
        "vocab = np.array(encoder.get_vocabulary())\n",
        "print(len(encoder.get_vocabulary()))\n",
        "vocab[:20]"
      ],
      "execution_count": 7,
      "outputs": [
        {
          "output_type": "stream",
          "text": [
            "1180\n"
          ],
          "name": "stdout"
        },
        {
          "output_type": "execute_result",
          "data": {
            "text/plain": [
              "array(['', '[UNK]', 'i', 'for', 'the', 'a', 'to', 'you', 'that', 'is',\n",
              "       'in', 'yes', 'make', 'it', 'at', 'reservation', 'me', 'restaurant',\n",
              "       'no', 'thats'], dtype='<U15')"
            ]
          },
          "metadata": {
            "tags": []
          },
          "execution_count": 7
        }
      ]
    },
    {
      "cell_type": "code",
      "metadata": {
        "id": "nigIW3OJxUqh"
      },
      "source": [
        "model = tf.keras.Sequential([\n",
        "  encoder,\n",
        "  tf.keras.layers.Embedding(\n",
        "    input_dim=len(encoder.get_vocabulary()),\n",
        "    output_dim=64,\n",
        "    # Use masking to handle the variable sequence lengths\n",
        "    mask_zero=True),\n",
        "  tf.keras.layers.Bidirectional(tf.keras.layers.LSTM(64)),\n",
        "  tf.keras.layers.Dense(11, activation='softmax')\n",
        "])"
      ],
      "execution_count": 8,
      "outputs": []
    },
    {
      "cell_type": "code",
      "metadata": {
        "colab": {
          "base_uri": "https://localhost:8080/"
        },
        "id": "G8PxfkXjdASW",
        "outputId": "d4e8a23a-55b2-485e-8bb6-d0970248e89d"
      },
      "source": [
        "# predict on a sample text without padding.\n",
        "\n",
        "sample_text = ('Alright, fine. Now I would like to find a one-way flight to go '\n",
        "               'there, and I do not mind which airline I will have.')\n",
        "predictions = model.predict(np.array([sample_text]))\n",
        "print(predictions[0])"
      ],
      "execution_count": 9,
      "outputs": [
        {
          "output_type": "stream",
          "text": [
            "[0.09021422 0.09152975 0.09125305 0.0927147  0.09135037 0.09156321\n",
            " 0.09007676 0.09109601 0.09083001 0.09063284 0.08873904]\n"
          ],
          "name": "stdout"
        }
      ]
    },
    {
      "cell_type": "code",
      "metadata": {
        "colab": {
          "base_uri": "https://localhost:8080/"
        },
        "id": "Ee8vuMVrdX_4",
        "outputId": "84989790-12e7-4669-ee02-8cf5aca2188c"
      },
      "source": [
        "# predict on a sample text with padding\n",
        "\n",
        "padding = \"the \" * 2000\n",
        "predictions = model.predict(np.array([sample_text, padding]))\n",
        "print(predictions[0])"
      ],
      "execution_count": 10,
      "outputs": [
        {
          "output_type": "stream",
          "text": [
            "[0.09021422 0.09152975 0.09125305 0.0927147  0.09135037 0.09156321\n",
            " 0.09007675 0.09109601 0.09083001 0.09063284 0.08873904]\n"
          ],
          "name": "stdout"
        }
      ]
    },
    {
      "cell_type": "code",
      "metadata": {
        "id": "AG-G98EsdavD"
      },
      "source": [
        "model.compile(loss=tf.keras.losses.SparseCategoricalCrossentropy(),\n",
        "              optimizer=tf.keras.optimizers.Adam(1e-4),\n",
        "              metrics=['accuracy'])"
      ],
      "execution_count": 11,
      "outputs": []
    },
    {
      "cell_type": "code",
      "metadata": {
        "colab": {
          "base_uri": "https://localhost:8080/"
        },
        "id": "vkGnDIAadiOw",
        "outputId": "95eaad8b-f375-41d0-cc2a-cd0203fc5045"
      },
      "source": [
        "history = model.fit(train_phrases, train_intents, epochs=20)"
      ],
      "execution_count": 12,
      "outputs": [
        {
          "output_type": "stream",
          "text": [
            "Epoch 1/20\n",
            "112/112 [==============================] - 11s 34ms/step - loss: 2.3281 - accuracy: 0.3864\n",
            "Epoch 2/20\n",
            "112/112 [==============================] - 4s 34ms/step - loss: 1.9201 - accuracy: 0.4102\n",
            "Epoch 3/20\n",
            "112/112 [==============================] - 4s 34ms/step - loss: 1.7042 - accuracy: 0.4335\n",
            "Epoch 4/20\n",
            "112/112 [==============================] - 4s 33ms/step - loss: 1.5392 - accuracy: 0.5241\n",
            "Epoch 5/20\n",
            "112/112 [==============================] - 4s 33ms/step - loss: 1.3802 - accuracy: 0.5946\n",
            "Epoch 6/20\n",
            "112/112 [==============================] - 4s 34ms/step - loss: 1.2643 - accuracy: 0.6257\n",
            "Epoch 7/20\n",
            "112/112 [==============================] - 4s 33ms/step - loss: 1.1700 - accuracy: 0.6529\n",
            "Epoch 8/20\n",
            "112/112 [==============================] - 4s 33ms/step - loss: 1.0801 - accuracy: 0.6664\n",
            "Epoch 9/20\n",
            "112/112 [==============================] - 4s 34ms/step - loss: 0.9956 - accuracy: 0.6726\n",
            "Epoch 10/20\n",
            "112/112 [==============================] - 4s 33ms/step - loss: 0.9289 - accuracy: 0.6720\n",
            "Epoch 11/20\n",
            "112/112 [==============================] - 4s 33ms/step - loss: 0.8795 - accuracy: 0.6754\n",
            "Epoch 12/20\n",
            "112/112 [==============================] - 4s 33ms/step - loss: 0.8398 - accuracy: 0.6762\n",
            "Epoch 13/20\n",
            "112/112 [==============================] - 4s 33ms/step - loss: 0.8064 - accuracy: 0.6787\n",
            "Epoch 14/20\n",
            "112/112 [==============================] - 4s 33ms/step - loss: 0.7768 - accuracy: 0.6796\n",
            "Epoch 15/20\n",
            "112/112 [==============================] - 4s 33ms/step - loss: 0.7511 - accuracy: 0.6804\n",
            "Epoch 16/20\n",
            "112/112 [==============================] - 4s 34ms/step - loss: 0.7276 - accuracy: 0.6857\n",
            "Epoch 17/20\n",
            "112/112 [==============================] - 4s 34ms/step - loss: 0.7076 - accuracy: 0.6877\n",
            "Epoch 18/20\n",
            "112/112 [==============================] - 4s 33ms/step - loss: 0.6885 - accuracy: 0.6900\n",
            "Epoch 19/20\n",
            "112/112 [==============================] - 4s 33ms/step - loss: 0.6754 - accuracy: 0.6905\n",
            "Epoch 20/20\n",
            "112/112 [==============================] - 4s 34ms/step - loss: 0.6577 - accuracy: 0.7026\n"
          ],
          "name": "stdout"
        }
      ]
    },
    {
      "cell_type": "code",
      "metadata": {
        "id": "q043eZ2-jY_6",
        "colab": {
          "base_uri": "https://localhost:8080/"
        },
        "outputId": "a06e02d0-8f00-466b-fb34-981485b0c147"
      },
      "source": [
        "sample_test = ('I\\'m looking for a restaurant, can you help?')\n",
        "sample_test_intent = 'INFORM'\n",
        "predictions = model.predict(np.array([sample_test]))\n",
        "for i in predictions:\n",
        "  for idx, intent in enumerate(i):\n",
        "    print('{:.2f}%'.format(intent*100), [i for i in intent_mapper.keys()][idx])\n",
        "print('uhu?')"
      ],
      "execution_count": 17,
      "outputs": [
        {
          "output_type": "stream",
          "text": [
            "3.79% NEGATE\n",
            "0.00% NEGATE_INTENT\n",
            "1.14% REQUEST_ALTS\n",
            "0.00% GOODBYE\n",
            "0.01% REQUEST\n",
            "0.02% THANK_YOU\n",
            "0.07% AFFIRM\n",
            "0.00% AFFIRM_INTENT\n",
            "0.43% SELECT\n",
            "94.53% INFORM\n",
            "0.00% INFORM_INTENT\n",
            "uhu?\n"
          ],
          "name": "stdout"
        }
      ]
    },
    {
      "cell_type": "code",
      "metadata": {
        "id": "w2g6TZaYCI-y",
        "colab": {
          "base_uri": "https://localhost:8080/"
        },
        "outputId": "fd073ba1-5186-4d59-f3c0-5778f72bb315"
      },
      "source": [
        "sample_test = ('Also see if they have outdoor seating and what their rating is')\n",
        "sample_test_intent = 'REQUEST'\n",
        "predictions = model.predict(np.array([sample_test]))\n",
        "for i in predictions:\n",
        "  for idx, intent in enumerate(i):\n",
        "    print('{:.2f}%'.format(intent*100), [i for i in intent_mapper.keys()][idx])\n",
        "print('uhu?')"
      ],
      "execution_count": 21,
      "outputs": [
        {
          "output_type": "stream",
          "text": [
            "0.00% NEGATE\n",
            "0.00% NEGATE_INTENT\n",
            "0.11% REQUEST_ALTS\n",
            "0.01% GOODBYE\n",
            "83.91% REQUEST\n",
            "0.01% THANK_YOU\n",
            "15.64% AFFIRM\n",
            "0.00% AFFIRM_INTENT\n",
            "0.21% SELECT\n",
            "0.09% INFORM\n",
            "0.01% INFORM_INTENT\n",
            "uhu?\n"
          ],
          "name": "stdout"
        }
      ]
    }
  ]
}